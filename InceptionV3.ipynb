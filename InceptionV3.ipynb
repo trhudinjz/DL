{
  "cells": [
    {
      "cell_type": "code",
      "execution_count": null,
      "metadata": {
        "id": "I3bXxbzAcqHE"
      },
      "outputs": [],
      "source": [
        "import matplotlib.pyplot as plt\n",
        "import numpy as np\n",
        "import tensorflow as tf\n",
        "from tensorflow import keras"
      ]
    },
    {
      "cell_type": "code",
      "execution_count": null,
      "metadata": {
        "colab": {
          "base_uri": "https://localhost:8080/"
        },
        "id": "m5sEk37DJ2Av",
        "outputId": "7e5850d7-e153-4340-d308-1c69c760a843"
      },
      "outputs": [
        {
          "output_type": "stream",
          "name": "stdout",
          "text": [
            "Mounted at /content/drive\n"
          ]
        }
      ],
      "source": [
        "from google.colab import drive\n",
        "drive.mount('/content/drive')"
      ]
    },
    {
      "cell_type": "code",
      "execution_count": null,
      "metadata": {
        "id": "z_4LmFVeJ2Yv"
      },
      "outputs": [],
      "source": [
        "import numpy as np # linear algebra\n",
        "import pandas as pd # data processing, CSV file I/O (e.g. pd.read_csv)\n",
        "\n",
        "from keras.preprocessing.image import ImageDataGenerator\n",
        "from keras.utils import to_categorical\n",
        "from sklearn.model_selection import train_test_split\n",
        "import matplotlib.pyplot as plt\n",
        "import random\n",
        "from matplotlib import pyplot as plt\n",
        "import os\n",
        "import tensorflow as tf\n",
        "from tensorflow.keras.models import Model,load_model, Sequential\n",
        "from tensorflow.keras.layers import  GlobalAveragePooling2D, Dropout, Dense, Flatten\n",
        "from tensorflow.keras.preprocessing.image import ImageDataGenerator\n",
        "from tensorflow.keras.optimizers import  Adam\n",
        "import cv2\n",
        "from tensorflow.keras.applications.resnet50 import ResNet50"
      ]
    },
    {
      "cell_type": "code",
      "execution_count": null,
      "metadata": {
        "id": "Fu-h0QI6J4PH"
      },
      "outputs": [],
      "source": [
        "X=[]\n",
        "Z=[]\n",
        "IMG_SIZE=224\n",
        "Nam='/content/drive/MyDrive/Datasets/Data/5'\n",
        "Sau='/content/drive/MyDrive/Datasets/Data/6'\n",
        "Bay='/content/drive/MyDrive/Datasets/Data/7'\n",
        "Tam='/content/drive/MyDrive/Datasets/Data/8'\n",
        "Chin='/content/drive/MyDrive/Datasets/Data/9'"
      ]
    },
    {
      "cell_type": "code",
      "execution_count": null,
      "metadata": {
        "id": "58ncAxKHJ66e"
      },
      "outputs": [],
      "source": [
        "def nhan(img,kieuso):\n",
        "    return kieuso "
      ]
    },
    {
      "cell_type": "code",
      "execution_count": null,
      "metadata": {
        "id": "J-5buoftJ852"
      },
      "outputs": [],
      "source": [
        "def make_train_data(kieuso,DIR):\n",
        "    for img in tqdm(os.listdir(DIR)):\n",
        "        label = nhan(img,kieuso )\n",
        "        path = os.path.join(DIR,img)\n",
        "        img = cv2.imread(path)\n",
        "        img = cv2.cvtColor(img,cv2.COLOR_BGR2RGB)\n",
        "        img = cv2.resize(img, (IMG_SIZE,IMG_SIZE))\n",
        "        \n",
        "        X.append(np.array(img))\n",
        "        Z.append(str(label))     "
      ]
    },
    {
      "cell_type": "code",
      "execution_count": null,
      "metadata": {
        "id": "XQNE1qMTJ_d_"
      },
      "outputs": [],
      "source": [
        "# Ignore  the warnings\n",
        "import warnings\n",
        "warnings.filterwarnings('always')\n",
        "warnings.filterwarnings('ignore')\n",
        "\n",
        "# data visualisation and manipulation\n",
        "import numpy as np\n",
        "import pandas as pd\n",
        "import matplotlib.pyplot as plt\n",
        "from matplotlib import style\n",
        "import seaborn as sns\n",
        " \n",
        "#configure\n",
        "# sets matplotlib to inline and displays graphs below the corressponding cell.\n",
        "%matplotlib inline  \n",
        "style.use('fivethirtyeight')\n",
        "sns.set(style='whitegrid',color_codes=True)\n",
        "\n",
        "#model selection\n",
        "from sklearn.model_selection import train_test_split\n",
        "from sklearn.model_selection import KFold\n",
        "from sklearn.metrics import accuracy_score,precision_score,recall_score,confusion_matrix,roc_curve,roc_auc_score\n",
        "from sklearn.model_selection import GridSearchCV\n",
        "from sklearn.preprocessing import LabelEncoder\n",
        "#preprocess.\n",
        "from keras.preprocessing.image import ImageDataGenerator\n",
        "\n",
        "#dl libraraies\n",
        "from keras import backend as K\n",
        "from keras.models import Sequential\n",
        "from keras.layers import Dense\n",
        "from tensorflow.keras.optimizers import Adam,SGD,Adagrad,Adadelta,RMSprop\n",
        "from tensorflow.keras.utils import to_categorical\n",
        "\n",
        "# specifically for cnn\n",
        "from keras.layers import Dropout, Flatten,Activation\n",
        "from keras.layers import Conv2D, MaxPooling2D, BatchNormalization\n",
        " \n",
        "import tensorflow as tf\n",
        "import random as rn\n",
        "\n",
        "# specifically for manipulating zipped images and getting numpy arrays of pixel values of images.\n",
        "import cv2                  \n",
        "import numpy as np  \n",
        "from tqdm import tqdm\n",
        "import os                   \n",
        "from random import shuffle  \n",
        "from zipfile import ZipFile\n",
        "from PIL import Image"
      ]
    },
    {
      "cell_type": "code",
      "execution_count": null,
      "metadata": {
        "colab": {
          "base_uri": "https://localhost:8080/"
        },
        "id": "KesqFkfgKCPN",
        "outputId": "d36b60f7-9598-45ed-c6ef-04fc872cd328"
      },
      "outputs": [
        {
          "output_type": "stream",
          "name": "stderr",
          "text": [
            "100%|██████████| 731/731 [01:19<00:00,  9.21it/s]"
          ]
        },
        {
          "output_type": "stream",
          "name": "stdout",
          "text": [
            "731\n"
          ]
        },
        {
          "output_type": "stream",
          "name": "stderr",
          "text": [
            "\n"
          ]
        }
      ],
      "source": [
        "make_train_data('5',Nam)\n",
        "print(len(X))"
      ]
    },
    {
      "cell_type": "code",
      "execution_count": null,
      "metadata": {
        "colab": {
          "base_uri": "https://localhost:8080/"
        },
        "id": "2tSR_O7wKEI1",
        "outputId": "32cb15a0-5f8d-45a3-8e37-e84a677a21a2"
      },
      "outputs": [
        {
          "output_type": "stream",
          "name": "stderr",
          "text": [
            "100%|██████████| 1050/1050 [02:03<00:00,  8.54it/s]"
          ]
        },
        {
          "output_type": "stream",
          "name": "stdout",
          "text": [
            "1781\n"
          ]
        },
        {
          "output_type": "stream",
          "name": "stderr",
          "text": [
            "\n"
          ]
        }
      ],
      "source": [
        "make_train_data('6',Sau)\n",
        "print(len(X))"
      ]
    },
    {
      "cell_type": "code",
      "execution_count": null,
      "metadata": {
        "colab": {
          "base_uri": "https://localhost:8080/"
        },
        "id": "fE7ll2X-KHkm",
        "outputId": "e8f1c8fd-d783-4b64-a204-2c7acc013a94"
      },
      "outputs": [
        {
          "output_type": "stream",
          "name": "stderr",
          "text": [
            "100%|██████████| 819/819 [01:08<00:00, 12.01it/s]"
          ]
        },
        {
          "output_type": "stream",
          "name": "stdout",
          "text": [
            "2600\n"
          ]
        },
        {
          "output_type": "stream",
          "name": "stderr",
          "text": [
            "\n"
          ]
        }
      ],
      "source": [
        "make_train_data('7',Bay)\n",
        "print(len(X))"
      ]
    },
    {
      "cell_type": "code",
      "execution_count": null,
      "metadata": {
        "colab": {
          "base_uri": "https://localhost:8080/"
        },
        "id": "IYrF2UmiKJLV",
        "outputId": "f0a4615e-bbcb-4978-c583-87bc9213e7bd"
      },
      "outputs": [
        {
          "output_type": "stream",
          "name": "stderr",
          "text": [
            "100%|██████████| 705/705 [00:59<00:00, 11.90it/s] "
          ]
        },
        {
          "output_type": "stream",
          "name": "stdout",
          "text": [
            "3305\n"
          ]
        },
        {
          "output_type": "stream",
          "name": "stderr",
          "text": [
            "\n"
          ]
        }
      ],
      "source": [
        "make_train_data('8',Tam)\n",
        "print(len(X))"
      ]
    },
    {
      "cell_type": "code",
      "execution_count": null,
      "metadata": {
        "colab": {
          "base_uri": "https://localhost:8080/"
        },
        "id": "Y4RJLqngKJRn",
        "outputId": "af06d48a-ba10-4196-bed6-6bf0802ec8d5"
      },
      "outputs": [
        {
          "output_type": "stream",
          "name": "stderr",
          "text": [
            "100%|██████████| 890/890 [01:14<00:00, 11.97it/s]"
          ]
        },
        {
          "output_type": "stream",
          "name": "stdout",
          "text": [
            "4195\n"
          ]
        },
        {
          "output_type": "stream",
          "name": "stderr",
          "text": [
            "\n"
          ]
        }
      ],
      "source": [
        "make_train_data('9',Chin)\n",
        "print(len(X))"
      ]
    },
    {
      "cell_type": "code",
      "execution_count": null,
      "metadata": {
        "id": "zZ2Zkh0IKWJO"
      },
      "outputs": [],
      "source": [
        "le=LabelEncoder()\n",
        "Y=le.fit_transform(Z)\n",
        "Y=to_categorical(Y,5)\n",
        "X=np.array(X)"
      ]
    },
    {
      "cell_type": "code",
      "execution_count": null,
      "metadata": {
        "colab": {
          "base_uri": "https://localhost:8080/"
        },
        "id": "vxqmhQPSZzCv",
        "outputId": "6e3b20eb-0489-4549-ebbd-d2d007472efa"
      },
      "outputs": [
        {
          "output_type": "stream",
          "name": "stdout",
          "text": [
            "train data shape after the split:  (2936, 224, 224, 3)\n",
            "new validation data shape:  (1259, 224, 224, 3)\n",
            "validation labels shape:  (1259, 5)\n"
          ]
        }
      ],
      "source": [
        "### Train -test split \n",
        "\n",
        "from sklearn.model_selection import train_test_split \n",
        "train_im, valid_im, train_lab, valid_lab = train_test_split(X, Y, test_size=0.30, random_state=40)\n",
        "print (\"train data shape after the split: \", train_im.shape)\n",
        "print ('new validation data shape: ', valid_im.shape)\n",
        "print (\"validation labels shape: \", valid_lab.shape)"
      ]
    },
    {
      "cell_type": "code",
      "execution_count": null,
      "metadata": {
        "id": "LjGvpnx1ay-P"
      },
      "outputs": [],
      "source": [
        "#### Necessary Imports for Neural Net \n",
        "\n",
        "from tensorflow.keras.layers import Input, Conv2D, MaxPooling2D, ZeroPadding2D,\\\n",
        "     Flatten, BatchNormalization, AveragePooling2D, Dense, Activation, Add \n",
        "from tensorflow.keras.models import Model\n",
        "from tensorflow.keras import activations\n",
        "from tensorflow.keras.optimizers import Adam\n",
        "from tensorflow.keras.callbacks import EarlyStopping\n",
        "from tensorflow.keras.regularizers import l2"
      ]
    },
    {
      "cell_type": "code",
      "execution_count": null,
      "metadata": {
        "id": "o1tLwFBEZ7Oj"
      },
      "outputs": [],
      "source": [
        "##### Include Little Data Augmentation \n",
        "batch_size = 64 # try several values\n",
        "\n",
        "train_DataGen = tf.keras.preprocessing.image.ImageDataGenerator(\n",
        "    zoom_range=0.2, rescale=1/255,\n",
        "                                                                width_shift_range=0.1, \n",
        "                                                                height_shift_range = 0.1, \n",
        "                                                                horizontal_flip=True)\n",
        " \n",
        "valid_datagen = tf.keras.preprocessing.image.ImageDataGenerator(rescale=1/255)\n",
        "\n",
        "train_set_conv = train_DataGen.flow(train_im, train_lab, batch_size=batch_size) # train_lab is categorical \n",
        "valid_set_conv = valid_datagen.flow(valid_im, valid_lab, batch_size=batch_size) # so as valid_lab "
      ]
    },
    {
      "cell_type": "code",
      "source": [
        "import tensorflow as tf\n",
        "from keras.applications.inception_v3 import InceptionV3\n",
        "from keras.layers import Dense, Flatten, Dropout, GlobalAveragePooling2D\n",
        "from keras.models import Sequential\n",
        "\n",
        "#Creating an instance of the InceptionNetV3 model using imagenet weights:\n",
        "inception = InceptionV3(weights = 'imagenet', include_top = False, input_shape = (224, 224, 3))\n",
        "\n",
        "#Defining all layers except the last 5 as non-trainable:\n",
        "for layer in inception.layers[:-10]:\n",
        "    layer.trainable = False\n",
        "\n",
        "#Sequential model with layers of aforementioned InceptionNetV3 model \n",
        "#followed by a pooling layer, flattening layer and 4 dense layers:\n",
        "inception_model = Sequential([\n",
        "        inception,\n",
        "        GlobalAveragePooling2D(),\n",
        "        Flatten(),\n",
        "        Dense(256, activation = \"relu\"),\n",
        "        Dense(128, activation = \"relu\"),\n",
        "        Dense(64, activation = \"relu\"),\n",
        "        Dense(5, activation = 'softmax')\n",
        "    ])\n",
        "\n",
        "inception_model.summary()"
      ],
      "metadata": {
        "colab": {
          "base_uri": "https://localhost:8080/"
        },
        "id": "RoSGInYL580_",
        "outputId": "7fa48a55-beda-4880-d903-969cb474f07b"
      },
      "execution_count": null,
      "outputs": [
        {
          "output_type": "stream",
          "name": "stdout",
          "text": [
            "Downloading data from https://storage.googleapis.com/tensorflow/keras-applications/inception_v3/inception_v3_weights_tf_dim_ordering_tf_kernels_notop.h5\n",
            "87910968/87910968 [==============================] - 1s 0us/step\n",
            "Model: \"sequential\"\n",
            "_________________________________________________________________\n",
            " Layer (type)                Output Shape              Param #   \n",
            "=================================================================\n",
            " inception_v3 (Functional)   (None, 5, 5, 2048)        21802784  \n",
            "                                                                 \n",
            " global_average_pooling2d (G  (None, 2048)             0         \n",
            " lobalAveragePooling2D)                                          \n",
            "                                                                 \n",
            " flatten (Flatten)           (None, 2048)              0         \n",
            "                                                                 \n",
            " dense (Dense)               (None, 256)               524544    \n",
            "                                                                 \n",
            " dense_1 (Dense)             (None, 128)               32896     \n",
            "                                                                 \n",
            " dense_2 (Dense)             (None, 64)                8256      \n",
            "                                                                 \n",
            " dense_3 (Dense)             (None, 5)                 325       \n",
            "                                                                 \n",
            "=================================================================\n",
            "Total params: 22,368,805\n",
            "Trainable params: 566,021\n",
            "Non-trainable params: 21,802,784\n",
            "_________________________________________________________________\n"
          ]
        }
      ]
    },
    {
      "cell_type": "code",
      "execution_count": null,
      "metadata": {
        "id": "vJYeyPZQ38JW"
      },
      "outputs": [],
      "source": [
        "inception_model.compile(loss='categorical_crossentropy', optimizer=Adam(learning_rate=1e-3), \n",
        "                       metrics=['acc'])"
      ]
    },
    {
      "cell_type": "code",
      "execution_count": null,
      "metadata": {
        "colab": {
          "base_uri": "https://localhost:8080/"
        },
        "id": "TmutGQJp54wv",
        "outputId": "833be46e-dc99-4fd6-cd01-9dad1d5080b8"
      },
      "outputs": [
        {
          "output_type": "stream",
          "name": "stdout",
          "text": [
            "Epoch 1/100\n",
            "45/45 [==============================] - 32s 690ms/step - loss: 0.6855 - acc: 0.7282 - val_loss: 0.6833 - val_acc: 0.7427\n",
            "Epoch 2/100\n",
            "45/45 [==============================] - 31s 681ms/step - loss: 0.6106 - acc: 0.7623 - val_loss: 0.5097 - val_acc: 0.8054\n",
            "Epoch 3/100\n",
            "45/45 [==============================] - 32s 700ms/step - loss: 0.5008 - acc: 0.8018 - val_loss: 0.4243 - val_acc: 0.8284\n",
            "Epoch 4/100\n",
            "45/45 [==============================] - 32s 693ms/step - loss: 0.4269 - acc: 0.8256 - val_loss: 0.4127 - val_acc: 0.8292\n",
            "Epoch 5/100\n",
            "45/45 [==============================] - 32s 687ms/step - loss: 0.4245 - acc: 0.8362 - val_loss: 0.3904 - val_acc: 0.8570\n",
            "Epoch 6/100\n",
            "45/45 [==============================] - 32s 694ms/step - loss: 0.4244 - acc: 0.8355 - val_loss: 0.4566 - val_acc: 0.8102\n",
            "Epoch 7/100\n",
            "45/45 [==============================] - 34s 740ms/step - loss: 0.4022 - acc: 0.8447 - val_loss: 0.3744 - val_acc: 0.8554\n",
            "Epoch 8/100\n",
            "45/45 [==============================] - 31s 683ms/step - loss: 0.3505 - acc: 0.8587 - val_loss: 0.4354 - val_acc: 0.8324\n",
            "Epoch 9/100\n",
            "45/45 [==============================] - 32s 689ms/step - loss: 0.3591 - acc: 0.8508 - val_loss: 0.4210 - val_acc: 0.8292\n",
            "Epoch 10/100\n",
            "45/45 [==============================] - 31s 685ms/step - loss: 0.3352 - acc: 0.8689 - val_loss: 0.3887 - val_acc: 0.8515\n",
            "Epoch 10: early stopping\n"
          ]
        }
      ],
      "source": [
        "batch_size=batch_size # test with 64, 128, 256\n",
        "earlystop = EarlyStopping(monitor='val_acc',patience=5,verbose=1)\n",
        "resnet_train = inception_model.fit(train_set_conv, \n",
        "                                  epochs=100, \n",
        "                                  steps_per_epoch=train_im.shape[0]/batch_size, \n",
        "                                  validation_steps=valid_im.shape[0]/batch_size, \n",
        "                                  validation_data=valid_set_conv, \n",
        "                                  callbacks=[earlystop])"
      ]
    },
    {
      "cell_type": "code",
      "execution_count": null,
      "metadata": {
        "id": "XbziRYwD8xA_",
        "colab": {
          "base_uri": "https://localhost:8080/",
          "height": 365
        },
        "outputId": "d5525e39-33fc-4a6d-e7d5-99a989583991"
      },
      "outputs": [
        {
          "output_type": "display_data",
          "data": {
            "text/plain": [
              "<Figure size 648x360 with 2 Axes>"
            ],
            "image/png": "[encoded data removed]"
          },
          "metadata": {}
        }
      ],
      "source": [
        "### Plot train and validation curves\n",
        "loss = resnet_train.history['loss']\n",
        "v_loss = resnet_train.history['val_loss']\n",
        "\n",
        "acc = resnet_train.history['acc']\n",
        "v_acc = resnet_train.history['val_acc']\n",
        "\n",
        "epochs = range(len(loss))\n",
        "\n",
        "fig = plt.figure(figsize=(9, 5))\n",
        "plt.subplot(1, 2, 1)\n",
        "plt.yscale('log')\n",
        "plt.plot(epochs, loss, linestyle='--', linewidth=3, color='orange', alpha=0.7, label='Train Loss')\n",
        "plt.plot(epochs, v_loss, linestyle='-.', linewidth=2, color='lime', alpha=0.8, label='Valid Loss')\n",
        "plt.ylim(0.3, 100)\n",
        "plt.xlabel('Epochs', fontsize=11)\n",
        "plt.ylabel('Loss', fontsize=12)\n",
        "plt.legend(fontsize=12)\n",
        "plt.subplot(1, 2, 2)\n",
        "plt.plot(epochs, acc, linestyle='--', linewidth=3, color='orange', alpha=0.7, label='Train Acc')\n",
        "plt.plot(epochs, v_acc, linestyle='-.', linewidth=2, color='lime', alpha=0.8, label='Valid Acc') \n",
        "plt.xlabel('Epochs', fontsize=11)\n",
        "plt.ylabel('Accuracy', fontsize=12)\n",
        "plt.legend(fontsize=12)\n",
        "plt.tight_layout()\n",
        "# plt.savefig('/content/gdrive/My Drive/Colab Notebooks/', dpi=250)\n",
        "plt.show()"
      ]
    }
  ],
  "metadata": {
    "colab": {
      "provenance": []
    },
    "gpuClass": "standard",
    "kernelspec": {
      "display_name": "Python 3",
      "name": "python3"
    },
    "accelerator": "GPU"
  },
  "nbformat": 4,
  "nbformat_minor": 0
}